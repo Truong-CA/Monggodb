{
 "cells": [
  {
   "cell_type": "code",
   "execution_count": 1,
   "metadata": {},
   "outputs": [],
   "source": [
    "#import\n",
    "from pymongo import MongoClient\n",
    "from datetime import datetime\n"
   ]
  },
  {
   "cell_type": "code",
   "execution_count": 2,
   "metadata": {},
   "outputs": [],
   "source": [
    "#ket noi toi mongodb\n",
    "client = MongoClient('mongodb://localhost:27017/')\n",
    "client.drop_database('tiktokABC')\n",
    "db = client['tiktokABC'] #chon co so du lieu"
   ]
  },
  {
   "cell_type": "code",
   "execution_count": 3,
   "metadata": {},
   "outputs": [],
   "source": [
    "#tao cac collection\n",
    "users_collection = db['users']\n",
    "videos_collection = db['videos']"
   ]
  },
  {
   "cell_type": "code",
   "execution_count": 4,
   "metadata": {},
   "outputs": [
    {
     "data": {
      "text/plain": [
       "InsertManyResult([ObjectId('6715171c9e4f4c9b849bbe85'), ObjectId('6715171c9e4f4c9b849bbe86'), ObjectId('6715171c9e4f4c9b849bbe87')], acknowledged=True)"
      ]
     },
     "execution_count": 4,
     "metadata": {},
     "output_type": "execute_result"
    }
   ],
   "source": [
    "# Bước 3: Thêm dữ liệu người dùng\n",
    "users_data = [\n",
    "    { \"user_id\": 1, \"username\": \"user1\", \"full_name\": \"Nguyen Van A\", \"followers\": 1500, \"following\": 200 },\n",
    "    { \"user_id\": 2, \"username\": \"user2\", \"full_name\": \"Tran Thi B\", \"followers\": 2000, \"following\": 300 },\n",
    "    { \"user_id\": 3, \"username\": \"user3\", \"full_name\": \"Le Van C\", \"followers\": 500, \"following\": 100 }\n",
    "]\n",
    "users_collection.insert_many(users_data)"
   ]
  },
  {
   "cell_type": "code",
   "execution_count": 5,
   "metadata": {},
   "outputs": [
    {
     "data": {
      "text/plain": [
       "InsertManyResult([ObjectId('6715172a9e4f4c9b849bbe88'), ObjectId('6715172a9e4f4c9b849bbe89'), ObjectId('6715172a9e4f4c9b849bbe8a')], acknowledged=True)"
      ]
     },
     "execution_count": 5,
     "metadata": {},
     "output_type": "execute_result"
    }
   ],
   "source": [
    "# Bước 4 : them dữ liệu về video\n",
    "videos_data = [\n",
    "    { \"video_id\": 1, \"user_id\": 1, \"title\": \"Video 1\", \"views\": 10000, \"likes\": 500, \"created_at\": datetime(2024, 1, 1) },\n",
    "    { \"video_id\": 2, \"user_id\": 2, \"title\": \"Video 2\", \"views\": 20000, \"likes\": 1500, \"created_at\": datetime(2024, 1, 5) },\n",
    "    { \"video_id\": 3, \"user_id\": 3, \"title\": \"Video 3\", \"views\": 5000, \"likes\": 200, \"created_at\": datetime(2024, 1, 10) }\n",
    "]\n",
    "videos_collection.insert_many(videos_data) # thêm dữ liệu video"
   ]
  },
  {
   "cell_type": "code",
   "execution_count": 6,
   "metadata": {},
   "outputs": [
    {
     "name": "stdout",
     "output_type": "stream",
     "text": [
      "tất cả người dùng:\n",
      "{'user_id': 1, 'username': 'user1', 'full_name': 'Nguyen Van A', 'followers': 1500, 'following': 200, '_id': ObjectId('6715171c9e4f4c9b849bbe85')}\n",
      "{'user_id': 2, 'username': 'user2', 'full_name': 'Tran Thi B', 'followers': 2000, 'following': 300, '_id': ObjectId('6715171c9e4f4c9b849bbe86')}\n",
      "{'user_id': 3, 'username': 'user3', 'full_name': 'Le Van C', 'followers': 500, 'following': 100, '_id': ObjectId('6715171c9e4f4c9b849bbe87')}\n"
     ]
    }
   ],
   "source": [
    "#Bước 5 : truy vấn dữ liệu\n",
    "##1\n",
    "print(\"tất cả người dùng:\")\n",
    "for user in users_data:\n",
    "    print(user)"
   ]
  },
  {
   "cell_type": "code",
   "execution_count": 7,
   "metadata": {},
   "outputs": [
    {
     "name": "stdout",
     "output_type": "stream",
     "text": [
      "video co nhieu luot xem nhat:\n",
      "{'_id': ObjectId('6715172a9e4f4c9b849bbe89'), 'video_id': 2, 'user_id': 2, 'title': 'Video 2', 'views': 20000, 'likes': 1500, 'created_at': datetime.datetime(2024, 1, 5, 0, 0)}\n"
     ]
    }
   ],
   "source": [
    "##2\n",
    "print(\"video co nhieu luot xem nhat:\")\n",
    "mosted_viewed_video = videos_collection.find().sort('views', -1).limit(1)\n",
    "for u in mosted_viewed_video:\n",
    "    print(u)"
   ]
  },
  {
   "cell_type": "code",
   "execution_count": 8,
   "metadata": {},
   "outputs": [
    {
     "name": "stdout",
     "output_type": "stream",
     "text": [
      "\n",
      "Tất cả video của người dùng 'user1':\n",
      "{'_id': ObjectId('6715172a9e4f4c9b849bbe88'), 'video_id': 1, 'user_id': 1, 'title': 'Video 1', 'views': 10000, 'likes': 500, 'created_at': datetime.datetime(2024, 1, 1, 0, 0)}\n"
     ]
    }
   ],
   "source": [
    "##3\n",
    "print(\"\\nTất cả video của người dùng 'user1':\")\n",
    "user_videos = videos_collection.find({'user_id':1})\n",
    "for v in user_videos:\n",
    "    print(v)"
   ]
  },
  {
   "cell_type": "code",
   "execution_count": 9,
   "metadata": {},
   "outputs": [
    {
     "data": {
      "text/plain": [
       "UpdateResult({'n': 1, 'nModified': 1, 'ok': 1.0, 'updatedExisting': True}, acknowledged=True)"
      ]
     },
     "execution_count": 9,
     "metadata": {},
     "output_type": "execute_result"
    }
   ],
   "source": [
    "# Bước 6: cập nhật dữ liệu\n",
    "# Cập nhật số người theo dõi của người dùng với 'user_id' là 1 lên 2000\n",
    "users_collection.update_one({'user_id':1},{'$set': {'followers':2000}})"
   ]
  },
  {
   "cell_type": "code",
   "execution_count": 10,
   "metadata": {},
   "outputs": [
    {
     "data": {
      "text/plain": [
       "DeleteResult({'n': 1, 'ok': 1.0}, acknowledged=True)"
      ]
     },
     "execution_count": 10,
     "metadata": {},
     "output_type": "execute_result"
    }
   ],
   "source": [
    "# Bước 7: xoá video có 'video_id' là 3\n",
    "videos_collection.delete_one({'video_id': 3})"
   ]
  },
  {
   "cell_type": "code",
   "execution_count": 11,
   "metadata": {},
   "outputs": [
    {
     "name": "stdout",
     "output_type": "stream",
     "text": [
      "\n",
      "Dữ liệu sau khi cập nhật:\n",
      "{'_id': ObjectId('6715171c9e4f4c9b849bbe85'), 'user_id': 1, 'username': 'user1', 'full_name': 'Nguyen Van A', 'followers': 2000, 'following': 200}\n",
      "{'_id': ObjectId('6715171c9e4f4c9b849bbe86'), 'user_id': 2, 'username': 'user2', 'full_name': 'Tran Thi B', 'followers': 2000, 'following': 300}\n",
      "{'_id': ObjectId('6715171c9e4f4c9b849bbe87'), 'user_id': 3, 'username': 'user3', 'full_name': 'Le Van C', 'followers': 500, 'following': 100}\n",
      "\n",
      "Dữ liệu sau khi xoá:\n",
      "{'_id': ObjectId('6715172a9e4f4c9b849bbe88'), 'video_id': 1, 'user_id': 1, 'title': 'Video 1', 'views': 10000, 'likes': 500, 'created_at': datetime.datetime(2024, 1, 1, 0, 0)}\n",
      "{'_id': ObjectId('6715172a9e4f4c9b849bbe89'), 'video_id': 2, 'user_id': 2, 'title': 'Video 2', 'views': 20000, 'likes': 1500, 'created_at': datetime.datetime(2024, 1, 5, 0, 0)}\n"
     ]
    }
   ],
   "source": [
    "# Bước 8: xem lại dữ liệu sau khi cập nhật và xoá\n",
    "print(\"\\nDữ liệu sau khi cập nhật:\")\n",
    "for user in users_collection.find():\n",
    "    print (user)\n",
    "\n",
    "print(\"\\nDữ liệu sau khi xoá:\")\n",
    "for video in videos_collection.find():\n",
    "    print(video)\n",
    "\n",
    "client.close()"
   ]
  },
  {
   "cell_type": "markdown",
   "metadata": {},
   "source": [
    "pip install pymongo\n"
   ]
  }
 ],
 "metadata": {
  "kernelspec": {
   "display_name": "Python 3",
   "language": "python",
   "name": "python3"
  },
  "language_info": {
   "codemirror_mode": {
    "name": "ipython",
    "version": 3
   },
   "file_extension": ".py",
   "mimetype": "text/x-python",
   "name": "python",
   "nbconvert_exporter": "python",
   "pygments_lexer": "ipython3",
   "version": "3.10.7"
  }
 },
 "nbformat": 4,
 "nbformat_minor": 2
}
